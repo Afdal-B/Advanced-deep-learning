{
  "cells": [
    {
      "cell_type": "markdown",
      "metadata": {},
      "source": [
        "Name: Afdal Bouraima\n",
        "student number : 2304491"
      ]
    },
    {
      "cell_type": "code",
      "execution_count": 5,
      "metadata": {
        "id": "y_RNb60OCNiF"
      },
      "outputs": [],
      "source": [
        "import tensorflow as tf\n",
        "from tensorflow import keras\n",
        "from keras.datasets import mnist\n",
        "from keras import Sequential,callbacks\n",
        "from keras.layers import Input,Conv2D,Dense,MaxPooling2D,Dropout,Flatten\n",
        "from matplotlib import pyplot as plt"
      ]
    },
    {
      "cell_type": "code",
      "execution_count": 2,
      "metadata": {
        "id": "Shm5rPQvsKf-"
      },
      "outputs": [],
      "source": [
        "def NeuralNetwork(activation,input_shape,learning_rate):\n",
        "  #Construct our model\n",
        "  model = Sequential()\n",
        "  model.add(Input(shape=input_shape))\n",
        "  model.add(Conv2D(32,(3,3),activation=activation,padding=\"same\"))\n",
        "  model.add(Conv2D(64,(3,3),activation=activation,padding=\"same\"))\n",
        "  model.add(MaxPooling2D((3,3)))\n",
        "  model.add(Dropout(.5))\n",
        "  model.add(Flatten())\n",
        "  model.add(Dense(250,activation=activation))\n",
        "  model.add(Dense(10,activation=\"softmax\"))\n",
        "  #We compile it\n",
        "  model.compile(optimizer = keras.optimizers.Adam(learning_rate), # We select the adam optimizer and tune its learning rate\n",
        "                loss=keras.losses.categorical_crossentropy,\n",
        "                metrics=['accuracy'])\n",
        "  # And we return it\n",
        "  return model"
      ]
    },
    {
      "cell_type": "code",
      "execution_count": 3,
      "metadata": {
        "id": "2gITAE4JsoUj"
      },
      "outputs": [],
      "source": [
        "def plot_results(history, activation_function, dataset):\n",
        "    plt.figure(figsize=(12, 4))\n",
        "\n",
        "    # Plot training and validation loss\n",
        "    plt.subplot(1, 2, 1)\n",
        "    plt.plot(history.history['loss'], label='Training Loss')\n",
        "    plt.plot(history.history['val_loss'], label='Validation Loss')\n",
        "    plt.title(f'{activation_function} Activation Function - {dataset}')\n",
        "    plt.xlabel('Epoch')\n",
        "    plt.ylabel('Loss')\n",
        "    plt.legend()\n",
        "\n",
        "    # Plot training and validation accuracy\n",
        "    plt.subplot(1, 2, 2)\n",
        "    plt.plot(history.history['accuracy'], label='Training Accuracy')\n",
        "    plt.plot(history.history['val_accuracy'], label='Validation Accuracy')\n",
        "    plt.title(f'{activation_function} Activation Function - {dataset}')\n",
        "    plt.xlabel('Epoch')\n",
        "    plt.ylabel('Accuracy')\n",
        "    plt.legend()\n",
        "\n",
        "    plt.tight_layout()\n",
        "    plt.show()\n"
      ]
    },
    {
      "cell_type": "code",
      "execution_count": 6,
      "metadata": {
        "colab": {
          "base_uri": "https://localhost:8080/"
        },
        "id": "m5cuF80FCaW_",
        "outputId": "d1f59d21-e65d-4d04-9d5c-fa4b0fc26ddf"
      },
      "outputs": [
        {
          "name": "stdout",
          "output_type": "stream",
          "text": [
            "Downloading data from https://storage.googleapis.com/tensorflow/tf-keras-datasets/mnist.npz\n",
            "11490434/11490434 [==============================] - 0s 0us/step\n"
          ]
        }
      ],
      "source": [
        "#Load the MNIST dataset\n",
        "(train_images,train_labels),(test_images,test_labels)=mnist.load_data()\n",
        "#We normalize the input\n",
        "train_images=train_images/255\n",
        "test_images=test_images/255\n",
        "\n",
        "#We reshape it to have 60000X28X28X1\n",
        "train_images = tf.reshape(train_images,(train_images.shape[0],28,28,1))\n",
        "#We reshape it to have 10000X28X28X1\n",
        "test_images = tf.reshape(test_images,(test_images.shape[0],28,28,1))\n",
        "\n",
        "#Transform the labels to categorial values\n",
        "train_labels = keras.utils.to_categorical(train_labels)\n",
        "test_labels = keras.utils.to_categorical(test_labels)\n",
        "\n",
        "# validation data\n",
        "x_validation = train_images[-2000:,:,:,:]\n",
        "y_validation = train_labels[-2000:]\n",
        "\n",
        "train_images = train_images[:-2000,:,:,:]\n",
        "train_labels = train_labels[:-2000]"
      ]
    },
    {
      "cell_type": "markdown",
      "metadata": {
        "id": "TukQkXBptYur"
      },
      "source": [
        "**We are going to select the adam optimizer and tune the learning rate**"
      ]
    },
    {
      "cell_type": "code",
      "execution_count": 7,
      "metadata": {
        "colab": {
          "base_uri": "https://localhost:8080/"
        },
        "id": "dXvyVWv0timA",
        "outputId": "f8a90b7e-6b96-433d-c19d-b315efc3a085"
      },
      "outputs": [
        {
          "name": "stdout",
          "output_type": "stream",
          "text": [
            "Epoch 1/30\n",
            "454/454 [==============================] - 16s 12ms/step - loss: 1.2508 - accuracy: 0.5577 - val_loss: 0.1878 - val_accuracy: 0.9520\n",
            "Epoch 2/30\n",
            "454/454 [==============================] - 5s 11ms/step - loss: 0.2586 - accuracy: 0.9224 - val_loss: 0.1097 - val_accuracy: 0.9725\n",
            "Epoch 3/30\n",
            "454/454 [==============================] - 5s 12ms/step - loss: 0.1653 - accuracy: 0.9509 - val_loss: 0.0696 - val_accuracy: 0.9835\n",
            "Epoch 4/30\n",
            "454/454 [==============================] - 5s 11ms/step - loss: 0.1120 - accuracy: 0.9671 - val_loss: 0.0584 - val_accuracy: 0.9880\n",
            "Epoch 5/30\n",
            "454/454 [==============================] - 5s 11ms/step - loss: 0.0838 - accuracy: 0.9748 - val_loss: 0.0532 - val_accuracy: 0.9885\n",
            "Epoch 6/30\n",
            "454/454 [==============================] - 5s 11ms/step - loss: 0.0633 - accuracy: 0.9808 - val_loss: 0.0462 - val_accuracy: 0.9920\n",
            "Epoch 7/30\n",
            "454/454 [==============================] - 5s 11ms/step - loss: 0.0531 - accuracy: 0.9844 - val_loss: 0.0398 - val_accuracy: 0.9920\n",
            "Epoch 8/30\n",
            "454/454 [==============================] - 6s 12ms/step - loss: 0.0453 - accuracy: 0.9862 - val_loss: 0.0382 - val_accuracy: 0.9915\n",
            "Epoch 9/30\n",
            "454/454 [==============================] - 5s 11ms/step - loss: 0.0383 - accuracy: 0.9886 - val_loss: 0.0377 - val_accuracy: 0.9920\n",
            "Epoch 10/30\n",
            "454/454 [==============================] - 5s 11ms/step - loss: 0.0339 - accuracy: 0.9900 - val_loss: 0.0379 - val_accuracy: 0.9920\n",
            "Epoch 11/30\n",
            "454/454 [==============================] - 5s 11ms/step - loss: 0.0290 - accuracy: 0.9916 - val_loss: 0.0340 - val_accuracy: 0.9930\n",
            "Epoch 12/30\n",
            "454/454 [==============================] - 5s 11ms/step - loss: 0.0272 - accuracy: 0.9919 - val_loss: 0.0357 - val_accuracy: 0.9905\n",
            "Epoch 13/30\n",
            "454/454 [==============================] - 5s 11ms/step - loss: 0.0245 - accuracy: 0.9924 - val_loss: 0.0332 - val_accuracy: 0.9935\n",
            "Epoch 14/30\n",
            "454/454 [==============================] - 5s 11ms/step - loss: 0.0208 - accuracy: 0.9937 - val_loss: 0.0347 - val_accuracy: 0.9930\n",
            "Epoch 15/30\n",
            "454/454 [==============================] - 5s 11ms/step - loss: 0.0184 - accuracy: 0.9947 - val_loss: 0.0379 - val_accuracy: 0.9935\n",
            "Epoch 16/30\n",
            "454/454 [==============================] - 5s 11ms/step - loss: 0.0169 - accuracy: 0.9948 - val_loss: 0.0333 - val_accuracy: 0.9940\n",
            "Epoch 17/30\n",
            "454/454 [==============================] - 5s 11ms/step - loss: 0.0159 - accuracy: 0.9949 - val_loss: 0.0376 - val_accuracy: 0.9920\n",
            "Epoch 18/30\n",
            "454/454 [==============================] - 5s 11ms/step - loss: 0.0142 - accuracy: 0.9957 - val_loss: 0.0384 - val_accuracy: 0.9920\n",
            "Epoch 19/30\n",
            "454/454 [==============================] - 5s 11ms/step - loss: 0.0124 - accuracy: 0.9965 - val_loss: 0.0380 - val_accuracy: 0.9920\n",
            "Epoch 20/30\n",
            "454/454 [==============================] - 6s 13ms/step - loss: 0.0109 - accuracy: 0.9968 - val_loss: 0.0348 - val_accuracy: 0.9935\n",
            "Epoch 21/30\n",
            "454/454 [==============================] - 5s 11ms/step - loss: 0.0100 - accuracy: 0.9971 - val_loss: 0.0352 - val_accuracy: 0.9930\n",
            "Epoch 22/30\n",
            "454/454 [==============================] - 5s 11ms/step - loss: 0.0105 - accuracy: 0.9969 - val_loss: 0.0395 - val_accuracy: 0.9935\n",
            "Epoch 23/30\n",
            "454/454 [==============================] - 5s 11ms/step - loss: 0.0092 - accuracy: 0.9972 - val_loss: 0.0377 - val_accuracy: 0.9935\n",
            "Epoch 24/30\n",
            "454/454 [==============================] - 5s 11ms/step - loss: 0.0095 - accuracy: 0.9971 - val_loss: 0.0405 - val_accuracy: 0.9930\n",
            "Epoch 25/30\n",
            "454/454 [==============================] - 5s 11ms/step - loss: 0.0087 - accuracy: 0.9973 - val_loss: 0.0373 - val_accuracy: 0.9930\n",
            "Epoch 26/30\n",
            "454/454 [==============================] - 5s 11ms/step - loss: 0.0075 - accuracy: 0.9979 - val_loss: 0.0361 - val_accuracy: 0.9930\n",
            "Epoch 27/30\n",
            "454/454 [==============================] - 5s 11ms/step - loss: 0.0080 - accuracy: 0.9973 - val_loss: 0.0373 - val_accuracy: 0.9940\n",
            "Epoch 28/30\n",
            "454/454 [==============================] - 5s 11ms/step - loss: 0.0067 - accuracy: 0.9983 - val_loss: 0.0351 - val_accuracy: 0.9935\n",
            "Epoch 29/30\n",
            "454/454 [==============================] - 5s 11ms/step - loss: 0.0070 - accuracy: 0.9979 - val_loss: 0.0347 - val_accuracy: 0.9935\n",
            "Epoch 30/30\n",
            "454/454 [==============================] - 5s 11ms/step - loss: 0.0060 - accuracy: 0.9984 - val_loss: 0.0371 - val_accuracy: 0.9935\n",
            "Epoch 1/30\n",
            "454/454 [==============================] - 7s 11ms/step - loss: 2.3852 - accuracy: 0.1019 - val_loss: 2.3779 - val_accuracy: 0.1070\n",
            "Epoch 2/30\n",
            "454/454 [==============================] - 5s 11ms/step - loss: 2.3591 - accuracy: 0.1003 - val_loss: 2.3354 - val_accuracy: 0.1065\n",
            "Epoch 3/30\n",
            "454/454 [==============================] - 5s 12ms/step - loss: 2.3603 - accuracy: 0.0985 - val_loss: 2.3686 - val_accuracy: 0.1045\n",
            "Epoch 4/30\n",
            "454/454 [==============================] - 5s 11ms/step - loss: 2.3547 - accuracy: 0.1023 - val_loss: 2.3531 - val_accuracy: 0.0915\n",
            "Epoch 5/30\n",
            "454/454 [==============================] - 5s 11ms/step - loss: 2.3536 - accuracy: 0.0985 - val_loss: 2.3684 - val_accuracy: 0.0995\n",
            "Epoch 6/30\n",
            "454/454 [==============================] - 5s 11ms/step - loss: 2.3532 - accuracy: 0.1033 - val_loss: 2.4657 - val_accuracy: 0.0915\n",
            "Epoch 7/30\n",
            "454/454 [==============================] - 5s 11ms/step - loss: 2.3583 - accuracy: 0.0984 - val_loss: 2.3518 - val_accuracy: 0.1045\n",
            "Epoch 8/30\n",
            "454/454 [==============================] - 5s 12ms/step - loss: 2.3578 - accuracy: 0.1004 - val_loss: 2.4111 - val_accuracy: 0.0970\n",
            "Epoch 9/30\n",
            "454/454 [==============================] - 5s 11ms/step - loss: 2.3599 - accuracy: 0.1005 - val_loss: 2.4381 - val_accuracy: 0.0950\n",
            "Epoch 10/30\n",
            "454/454 [==============================] - 5s 11ms/step - loss: 2.3599 - accuracy: 0.1037 - val_loss: 2.3815 - val_accuracy: 0.0995\n",
            "Epoch 11/30\n",
            "454/454 [==============================] - 5s 11ms/step - loss: 2.3555 - accuracy: 0.1022 - val_loss: 2.3711 - val_accuracy: 0.0950\n",
            "Epoch 12/30\n",
            "454/454 [==============================] - 5s 11ms/step - loss: 2.3592 - accuracy: 0.1012 - val_loss: 2.4831 - val_accuracy: 0.0950\n",
            "Epoch 13/30\n",
            "454/454 [==============================] - 5s 11ms/step - loss: 2.3561 - accuracy: 0.1022 - val_loss: 2.3426 - val_accuracy: 0.1065\n",
            "Epoch 14/30\n",
            "454/454 [==============================] - 5s 11ms/step - loss: 2.3522 - accuracy: 0.1024 - val_loss: 2.3411 - val_accuracy: 0.0970\n",
            "Epoch 15/30\n",
            "454/454 [==============================] - 5s 11ms/step - loss: 2.3577 - accuracy: 0.1024 - val_loss: 2.4050 - val_accuracy: 0.1000\n",
            "Epoch 16/30\n",
            "454/454 [==============================] - 5s 11ms/step - loss: 2.3585 - accuracy: 0.0999 - val_loss: 2.3405 - val_accuracy: 0.1010\n",
            "Epoch 17/30\n",
            "454/454 [==============================] - 5s 11ms/step - loss: 2.3551 - accuracy: 0.1024 - val_loss: 2.3870 - val_accuracy: 0.1010\n",
            "Epoch 18/30\n",
            "454/454 [==============================] - 5s 11ms/step - loss: 2.3530 - accuracy: 0.1010 - val_loss: 2.3538 - val_accuracy: 0.1070\n",
            "Epoch 19/30\n",
            "454/454 [==============================] - 5s 11ms/step - loss: 2.3617 - accuracy: 0.1018 - val_loss: 2.3365 - val_accuracy: 0.1045\n",
            "Epoch 20/30\n",
            "454/454 [==============================] - 5s 11ms/step - loss: 2.3596 - accuracy: 0.1026 - val_loss: 2.4092 - val_accuracy: 0.1065\n",
            "Epoch 21/30\n",
            "454/454 [==============================] - 5s 11ms/step - loss: 2.3563 - accuracy: 0.1016 - val_loss: 2.3678 - val_accuracy: 0.1000\n",
            "Epoch 22/30\n",
            "454/454 [==============================] - 5s 12ms/step - loss: 2.3514 - accuracy: 0.1008 - val_loss: 2.3544 - val_accuracy: 0.1070\n",
            "Epoch 23/30\n",
            "454/454 [==============================] - 5s 11ms/step - loss: 2.3517 - accuracy: 0.1016 - val_loss: 2.3658 - val_accuracy: 0.1070\n",
            "Epoch 24/30\n",
            "454/454 [==============================] - 5s 11ms/step - loss: 2.3636 - accuracy: 0.1012 - val_loss: 2.4346 - val_accuracy: 0.0970\n",
            "Epoch 25/30\n",
            "454/454 [==============================] - 5s 11ms/step - loss: 2.3626 - accuracy: 0.0996 - val_loss: 2.3720 - val_accuracy: 0.1065\n",
            "Epoch 26/30\n",
            "454/454 [==============================] - 5s 11ms/step - loss: 2.3536 - accuracy: 0.1031 - val_loss: 2.3676 - val_accuracy: 0.0950\n",
            "Epoch 27/30\n",
            "454/454 [==============================] - 5s 12ms/step - loss: 2.3553 - accuracy: 0.1020 - val_loss: 2.4091 - val_accuracy: 0.1070\n",
            "Epoch 28/30\n",
            "454/454 [==============================] - 5s 11ms/step - loss: 2.3613 - accuracy: 0.1027 - val_loss: 2.4032 - val_accuracy: 0.1000\n",
            "Epoch 29/30\n",
            "454/454 [==============================] - 5s 11ms/step - loss: 2.3591 - accuracy: 0.1015 - val_loss: 2.4366 - val_accuracy: 0.1070\n",
            "Epoch 30/30\n",
            "454/454 [==============================] - 5s 11ms/step - loss: 2.3603 - accuracy: 0.1004 - val_loss: 2.4011 - val_accuracy: 0.1045\n",
            "Epoch 1/30\n",
            "454/454 [==============================] - 6s 12ms/step - loss: 3.0720 - accuracy: 0.1014 - val_loss: 3.3895 - val_accuracy: 0.0980\n",
            "Epoch 2/30\n",
            "454/454 [==============================] - 5s 11ms/step - loss: 2.8578 - accuracy: 0.1005 - val_loss: 2.8807 - val_accuracy: 0.0995\n",
            "Epoch 3/30\n",
            "454/454 [==============================] - 5s 11ms/step - loss: 2.8549 - accuracy: 0.1009 - val_loss: 2.4938 - val_accuracy: 0.1010\n",
            "Epoch 4/30\n",
            "454/454 [==============================] - 5s 11ms/step - loss: 2.9213 - accuracy: 0.0996 - val_loss: 2.6605 - val_accuracy: 0.0995\n",
            "Epoch 5/30\n",
            "454/454 [==============================] - 5s 11ms/step - loss: 2.7212 - accuracy: 0.1017 - val_loss: 3.5009 - val_accuracy: 0.1010\n",
            "Epoch 6/30\n",
            "454/454 [==============================] - 5s 11ms/step - loss: 2.8280 - accuracy: 0.1008 - val_loss: 2.9913 - val_accuracy: 0.0915\n",
            "Epoch 7/30\n",
            "454/454 [==============================] - 5s 11ms/step - loss: 3.0312 - accuracy: 0.1023 - val_loss: 3.9406 - val_accuracy: 0.0980\n",
            "Epoch 8/30\n",
            "454/454 [==============================] - 5s 11ms/step - loss: 2.9240 - accuracy: 0.0999 - val_loss: 3.1434 - val_accuracy: 0.0970\n",
            "Epoch 9/30\n",
            "454/454 [==============================] - 5s 11ms/step - loss: 2.7607 - accuracy: 0.1007 - val_loss: 3.1983 - val_accuracy: 0.1000\n",
            "Epoch 10/30\n",
            "454/454 [==============================] - 5s 11ms/step - loss: 2.7741 - accuracy: 0.1009 - val_loss: 3.2255 - val_accuracy: 0.0950\n",
            "Epoch 11/30\n",
            "454/454 [==============================] - 5s 11ms/step - loss: 3.0909 - accuracy: 0.1045 - val_loss: 3.1435 - val_accuracy: 0.1000\n",
            "Epoch 12/30\n",
            "454/454 [==============================] - 5s 11ms/step - loss: 2.8169 - accuracy: 0.0993 - val_loss: 2.5052 - val_accuracy: 0.1045\n",
            "Epoch 13/30\n",
            "454/454 [==============================] - 5s 11ms/step - loss: 2.7645 - accuracy: 0.1021 - val_loss: 3.7407 - val_accuracy: 0.1010\n",
            "Epoch 14/30\n",
            "454/454 [==============================] - 5s 11ms/step - loss: 3.0756 - accuracy: 0.0986 - val_loss: 3.0037 - val_accuracy: 0.1065\n",
            "Epoch 15/30\n",
            "454/454 [==============================] - 5s 11ms/step - loss: 2.6633 - accuracy: 0.1019 - val_loss: 4.2554 - val_accuracy: 0.0915\n",
            "Epoch 16/30\n",
            "454/454 [==============================] - 5s 11ms/step - loss: 3.1434 - accuracy: 0.0997 - val_loss: 3.8541 - val_accuracy: 0.1065\n",
            "Epoch 17/30\n",
            "454/454 [==============================] - 5s 11ms/step - loss: 2.6057 - accuracy: 0.1014 - val_loss: 3.4578 - val_accuracy: 0.1045\n",
            "Epoch 18/30\n",
            "454/454 [==============================] - 5s 11ms/step - loss: 2.8590 - accuracy: 0.0993 - val_loss: 3.2390 - val_accuracy: 0.1070\n",
            "Epoch 19/30\n",
            "454/454 [==============================] - 5s 11ms/step - loss: 2.9571 - accuracy: 0.0998 - val_loss: 2.8344 - val_accuracy: 0.1065\n",
            "Epoch 20/30\n",
            "454/454 [==============================] - 5s 11ms/step - loss: 3.0037 - accuracy: 0.1017 - val_loss: 3.2673 - val_accuracy: 0.0950\n",
            "Epoch 21/30\n",
            "454/454 [==============================] - 5s 11ms/step - loss: 3.0760 - accuracy: 0.1011 - val_loss: 3.7566 - val_accuracy: 0.1000\n",
            "Epoch 22/30\n",
            "454/454 [==============================] - 5s 11ms/step - loss: 2.7695 - accuracy: 0.1014 - val_loss: 3.3780 - val_accuracy: 0.0995\n",
            "Epoch 23/30\n",
            "454/454 [==============================] - 5s 11ms/step - loss: 2.7039 - accuracy: 0.0989 - val_loss: 2.9599 - val_accuracy: 0.1065\n",
            "Epoch 24/30\n",
            "454/454 [==============================] - 5s 11ms/step - loss: 2.8919 - accuracy: 0.0991 - val_loss: 2.7558 - val_accuracy: 0.1065\n",
            "Epoch 25/30\n",
            "454/454 [==============================] - 5s 11ms/step - loss: 2.9055 - accuracy: 0.0999 - val_loss: 4.4742 - val_accuracy: 0.1065\n",
            "Epoch 26/30\n",
            "454/454 [==============================] - 5s 11ms/step - loss: 3.0240 - accuracy: 0.1026 - val_loss: 2.6924 - val_accuracy: 0.0995\n",
            "Epoch 27/30\n",
            "454/454 [==============================] - 5s 11ms/step - loss: 3.0136 - accuracy: 0.1002 - val_loss: 4.2842 - val_accuracy: 0.1045\n",
            "Epoch 28/30\n",
            "454/454 [==============================] - 5s 11ms/step - loss: 2.7238 - accuracy: 0.1024 - val_loss: 2.7426 - val_accuracy: 0.0970\n",
            "Epoch 29/30\n",
            "454/454 [==============================] - 5s 11ms/step - loss: 2.6753 - accuracy: 0.0993 - val_loss: 3.1817 - val_accuracy: 0.0970\n",
            "Epoch 30/30\n",
            "454/454 [==============================] - 5s 11ms/step - loss: 2.9091 - accuracy: 0.1009 - val_loss: 4.2371 - val_accuracy: 0.1065\n",
            "0.001\n"
          ]
        }
      ],
      "source": [
        "learning_rate_list = [0.001, 0.01, 0.1]\n",
        "best_learning_rate = 0\n",
        "best_val_acc = 0\n",
        "for learning_rate in learning_rate_list:\n",
        "  model = NeuralNetwork(\"sigmoid\",(28,28,1),learning_rate)\n",
        "  history = model.fit(train_images,train_labels,batch_size=128,epochs=30,validation_data=(x_validation,y_validation))\n",
        "  val_acc = max(history.history['val_accuracy'])\n",
        "  if val_acc > best_val_acc:\n",
        "        best_val_acc = val_acc\n",
        "        best_learning_rate = learning_rate\n",
        "print(best_learning_rate)"
      ]
    },
    {
      "cell_type": "markdown",
      "metadata": {
        "id": "-uUXT43S0Jlo"
      },
      "source": [
        "**From this experiment, the learning rate 0.001 is the more efficient. Now let's take it and make our plots**"
      ]
    },
    {
      "cell_type": "code",
      "execution_count": 8,
      "metadata": {
        "colab": {
          "base_uri": "https://localhost:8080/"
        },
        "id": "dSjbbxd20Xz8",
        "outputId": "c63442f6-562c-4124-a999-a44633e84f2c"
      },
      "outputs": [
        {
          "name": "stdout",
          "output_type": "stream",
          "text": [
            "Epoch 1/30\n",
            "454/454 [==============================] - 7s 12ms/step - loss: 1.4613 - accuracy: 0.4679 - val_loss: 0.2056 - val_accuracy: 0.9505\n",
            "Epoch 2/30\n",
            "454/454 [==============================] - 8s 17ms/step - loss: 0.2952 - accuracy: 0.9094 - val_loss: 0.1207 - val_accuracy: 0.9695\n",
            "Epoch 3/30\n",
            "454/454 [==============================] - 7s 16ms/step - loss: 0.1895 - accuracy: 0.9426 - val_loss: 0.0761 - val_accuracy: 0.9825\n",
            "Epoch 4/30\n",
            "454/454 [==============================] - 6s 14ms/step - loss: 0.1280 - accuracy: 0.9621 - val_loss: 0.0620 - val_accuracy: 0.9880\n",
            "Epoch 5/30\n",
            "454/454 [==============================] - 6s 13ms/step - loss: 0.0948 - accuracy: 0.9714 - val_loss: 0.0514 - val_accuracy: 0.9880\n",
            "Epoch 6/30\n",
            "454/454 [==============================] - 7s 16ms/step - loss: 0.0748 - accuracy: 0.9776 - val_loss: 0.0480 - val_accuracy: 0.9910\n",
            "Epoch 7/30\n",
            "454/454 [==============================] - 6s 12ms/step - loss: 0.0641 - accuracy: 0.9811 - val_loss: 0.0427 - val_accuracy: 0.9910\n",
            "Epoch 8/30\n",
            "454/454 [==============================] - 6s 13ms/step - loss: 0.0537 - accuracy: 0.9840 - val_loss: 0.0417 - val_accuracy: 0.9910\n",
            "Epoch 9/30\n",
            "454/454 [==============================] - 6s 13ms/step - loss: 0.0471 - accuracy: 0.9859 - val_loss: 0.0374 - val_accuracy: 0.9930\n",
            "Epoch 10/30\n",
            "454/454 [==============================] - 5s 11ms/step - loss: 0.0414 - accuracy: 0.9876 - val_loss: 0.0369 - val_accuracy: 0.9930\n",
            "Epoch 11/30\n",
            "454/454 [==============================] - 5s 11ms/step - loss: 0.0380 - accuracy: 0.9886 - val_loss: 0.0414 - val_accuracy: 0.9915\n",
            "Epoch 12/30\n",
            "454/454 [==============================] - 5s 11ms/step - loss: 0.0334 - accuracy: 0.9899 - val_loss: 0.0365 - val_accuracy: 0.9925\n",
            "Epoch 13/30\n",
            "454/454 [==============================] - 5s 11ms/step - loss: 0.0300 - accuracy: 0.9906 - val_loss: 0.0374 - val_accuracy: 0.9920\n",
            "Epoch 14/30\n",
            "454/454 [==============================] - 5s 11ms/step - loss: 0.0275 - accuracy: 0.9912 - val_loss: 0.0363 - val_accuracy: 0.9920\n",
            "Epoch 15/30\n",
            "454/454 [==============================] - 5s 11ms/step - loss: 0.0242 - accuracy: 0.9929 - val_loss: 0.0344 - val_accuracy: 0.9935\n",
            "Epoch 16/30\n",
            "454/454 [==============================] - 5s 12ms/step - loss: 0.0225 - accuracy: 0.9932 - val_loss: 0.0317 - val_accuracy: 0.9945\n",
            "Epoch 17/30\n",
            "454/454 [==============================] - 5s 11ms/step - loss: 0.0206 - accuracy: 0.9938 - val_loss: 0.0326 - val_accuracy: 0.9935\n",
            "Epoch 18/30\n",
            "454/454 [==============================] - 5s 11ms/step - loss: 0.0184 - accuracy: 0.9940 - val_loss: 0.0385 - val_accuracy: 0.9930\n",
            "Epoch 19/30\n",
            "454/454 [==============================] - 5s 12ms/step - loss: 0.0171 - accuracy: 0.9947 - val_loss: 0.0368 - val_accuracy: 0.9935\n",
            "Epoch 20/30\n",
            "454/454 [==============================] - 5s 11ms/step - loss: 0.0159 - accuracy: 0.9951 - val_loss: 0.0347 - val_accuracy: 0.9935\n",
            "Epoch 21/30\n",
            "454/454 [==============================] - 6s 12ms/step - loss: 0.0146 - accuracy: 0.9956 - val_loss: 0.0308 - val_accuracy: 0.9925\n",
            "Epoch 22/30\n",
            "454/454 [==============================] - 5s 11ms/step - loss: 0.0135 - accuracy: 0.9961 - val_loss: 0.0308 - val_accuracy: 0.9935\n",
            "Epoch 23/30\n",
            "454/454 [==============================] - 5s 11ms/step - loss: 0.0131 - accuracy: 0.9960 - val_loss: 0.0279 - val_accuracy: 0.9940\n",
            "Epoch 24/30\n",
            "454/454 [==============================] - 5s 12ms/step - loss: 0.0114 - accuracy: 0.9966 - val_loss: 0.0351 - val_accuracy: 0.9930\n",
            "Epoch 25/30\n",
            "454/454 [==============================] - 5s 11ms/step - loss: 0.0121 - accuracy: 0.9961 - val_loss: 0.0302 - val_accuracy: 0.9945\n",
            "Epoch 26/30\n",
            "454/454 [==============================] - 5s 11ms/step - loss: 0.0106 - accuracy: 0.9969 - val_loss: 0.0304 - val_accuracy: 0.9940\n",
            "Epoch 27/30\n",
            "454/454 [==============================] - 5s 12ms/step - loss: 0.0098 - accuracy: 0.9969 - val_loss: 0.0344 - val_accuracy: 0.9925\n",
            "Epoch 28/30\n",
            "454/454 [==============================] - 5s 11ms/step - loss: 0.0099 - accuracy: 0.9970 - val_loss: 0.0363 - val_accuracy: 0.9925\n",
            "Epoch 29/30\n",
            "454/454 [==============================] - 5s 12ms/step - loss: 0.0095 - accuracy: 0.9970 - val_loss: 0.0315 - val_accuracy: 0.9935\n",
            "Epoch 30/30\n",
            "454/454 [==============================] - 5s 11ms/step - loss: 0.0088 - accuracy: 0.9969 - val_loss: 0.0360 - val_accuracy: 0.9915\n"
          ]
        }
      ],
      "source": [
        "model = NeuralNetwork(\"sigmoid\",(28,28,1),0.001)\n",
        "history = model.fit(train_images,train_labels,batch_size=128,epochs=30,validation_data=(x_validation,y_validation))\n"
      ]
    },
    {
      "cell_type": "code",
      "execution_count": 9,
      "metadata": {
        "colab": {
          "base_uri": "https://localhost:8080/",
          "height": 225
        },
        "id": "BPLuqcBL09SR",
        "outputId": "325824ef-370f-4aff-f99a-2f4a7d1c1268"
      },
      "outputs": [
        {
          "data": {
            "image/png": "[encoded data removed]",
            "text/plain": [
              "<Figure size 1200x400 with 2 Axes>"
            ]
          },
          "metadata": {},
          "output_type": "display_data"
        }
      ],
      "source": [
        "plot_results(history,\"sigmoid\",\"MNIST\")"
      ]
    },
    {
      "cell_type": "markdown",
      "metadata": {
        "id": "n_CFoX628l2c"
      },
      "source": [
        "**From my previous experimentation in exercise1, I have selected Sigmoid as the optimal activation node for MNIST dataset due to its performance. And now by taking Adam optimizer and tuning the learning rate, We obtain the highest accuracy by setting the learning rate to 0.001. It is why I selected this value as parameter for my optimizer.**"
      ]
    }
  ],
  "metadata": {
    "accelerator": "GPU",
    "colab": {
      "gpuType": "T4",
      "provenance": []
    },
    "kernelspec": {
      "display_name": "Python 3",
      "name": "python3"
    },
    "language_info": {
      "name": "python"
    }
  },
  "nbformat": 4,
  "nbformat_minor": 0
}
