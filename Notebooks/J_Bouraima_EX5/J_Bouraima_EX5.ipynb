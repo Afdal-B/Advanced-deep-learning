{
  "cells": [
    {
      "cell_type": "markdown",
      "metadata": {},
      "source": [
        "Name: Afdal Bouraima\n",
        "student number : 2304491"
      ]
    },
    {
      "cell_type": "code",
      "execution_count": 23,
      "metadata": {
        "_cell_guid": "b1076dfc-b9ad-4769-8c92-a6c4dae69d19",
        "_uuid": "8f2839f25d086af736a60e9eeb907d3b93b6e0e5",
        "execution": {
          "iopub.execute_input": "2023-12-10T09:41:48.002482Z",
          "iopub.status.busy": "2023-12-10T09:41:48.001747Z",
          "iopub.status.idle": "2023-12-10T09:41:48.009132Z",
          "shell.execute_reply": "2023-12-10T09:41:48.008008Z",
          "shell.execute_reply.started": "2023-12-10T09:41:48.002446Z"
        },
        "id": "hLBHfnAWHqvl",
        "trusted": true
      },
      "outputs": [],
      "source": [
        "import tensorflow as tf\n",
        "from tensorflow import keras\n",
        "from keras.datasets import mnist,cifar10\n",
        "from keras import Sequential,callbacks\n",
        "from keras.layers import Input,Conv2D,Dense,MaxPooling2D,Dropout,Flatten\n",
        "from matplotlib import pyplot as plt\n",
        "from keras.preprocessing import image\n",
        "import numpy as np\n",
        "import cv2"
      ]
    },
    {
      "cell_type": "markdown",
      "metadata": {
        "id": "xPF7xHZcHqvo"
      },
      "source": [
        "**Task 1**"
      ]
    },
    {
      "cell_type": "code",
      "execution_count": 2,
      "metadata": {
        "colab": {
          "base_uri": "https://localhost:8080/"
        },
        "execution": {
          "iopub.execute_input": "2023-12-10T09:25:49.928886Z",
          "iopub.status.busy": "2023-12-10T09:25:49.924196Z",
          "iopub.status.idle": "2023-12-10T09:25:51.210741Z",
          "shell.execute_reply": "2023-12-10T09:25:51.209734Z",
          "shell.execute_reply.started": "2023-12-10T09:25:49.928825Z"
        },
        "id": "e7uVFXedHqvp",
        "outputId": "7bef84fb-ec36-4383-b857-d8c8ea201367",
        "trusted": true
      },
      "outputs": [
        {
          "name": "stdout",
          "output_type": "stream",
          "text": [
            "Downloading data from https://www.cs.toronto.edu/~kriz/cifar-10-python.tar.gz\n",
            "170498071/170498071 [==============================] - 2s 0us/step\n"
          ]
        }
      ],
      "source": [
        "(train_images,train_labels),(test_images,test_labels) = cifar10.load_data()\n",
        "#We normalize the input\n",
        "train_images = train_images/255\n",
        "test_images = test_images/255\n",
        "\n",
        "#Transform the labels to categorial values\n",
        "train_labels = keras.utils.to_categorical(train_labels)\n",
        "test_labels = keras.utils.to_categorical(test_labels)\n",
        "\n",
        "#validation data\n",
        "x_validation = train_images[-2000:,:,:,:]\n",
        "y_validation = train_labels[-2000:]\n",
        "\n",
        "train_images = train_images[:-2000,:,:,:]\n",
        "train_labels = train_labels[:-2000]"
      ]
    },
    {
      "cell_type": "code",
      "execution_count": 3,
      "metadata": {
        "execution": {
          "iopub.execute_input": "2023-12-10T09:25:53.654643Z",
          "iopub.status.busy": "2023-12-10T09:25:53.654244Z",
          "iopub.status.idle": "2023-12-10T09:25:54.999052Z",
          "shell.execute_reply": "2023-12-10T09:25:54.998059Z",
          "shell.execute_reply.started": "2023-12-10T09:25:53.654611Z"
        },
        "id": "oLIyoot7Hqvq",
        "trusted": true
      },
      "outputs": [],
      "source": [
        "model_cifar = Sequential([\n",
        "    Conv2D(32, (3, 3), activation='relu', input_shape=(32, 32, 3)),\n",
        "    MaxPooling2D((2, 2)),\n",
        "    Conv2D(64, (3, 3), activation='relu'),\n",
        "    MaxPooling2D((2, 2)),\n",
        "    Conv2D(64, (3, 3), activation='relu'),\n",
        "    Flatten(),\n",
        "    Dense(64, activation='relu'),\n",
        "    Dense(10, activation='softmax')\n",
        "])\n",
        "model_cifar.compile(optimizer='adam',\n",
        "                    loss=keras.losses.categorical_crossentropy,\n",
        "                    metrics=['accuracy'])"
      ]
    },
    {
      "cell_type": "code",
      "execution_count": 4,
      "metadata": {
        "colab": {
          "base_uri": "https://localhost:8080/"
        },
        "execution": {
          "iopub.execute_input": "2023-12-10T09:26:08.845332Z",
          "iopub.status.busy": "2023-12-10T09:26:08.844515Z",
          "iopub.status.idle": "2023-12-10T09:26:50.237270Z",
          "shell.execute_reply": "2023-12-10T09:26:50.236466Z",
          "shell.execute_reply.started": "2023-12-10T09:26:08.845298Z"
        },
        "id": "39bVCOGnHqvs",
        "outputId": "a094e25c-f07c-4137-9833-2927754bbb0d",
        "trusted": true
      },
      "outputs": [
        {
          "name": "stdout",
          "output_type": "stream",
          "text": [
            "Epoch 1/100\n",
            "750/750 [==============================] - 15s 5ms/step - loss: 1.5950 - accuracy: 0.4168 - val_loss: 1.3475 - val_accuracy: 0.5260\n",
            "Epoch 2/100\n",
            "750/750 [==============================] - 4s 6ms/step - loss: 1.2472 - accuracy: 0.5555 - val_loss: 1.1697 - val_accuracy: 0.6100\n",
            "Epoch 3/100\n",
            "750/750 [==============================] - 3s 4ms/step - loss: 1.0850 - accuracy: 0.6178 - val_loss: 1.0445 - val_accuracy: 0.6325\n",
            "Epoch 4/100\n",
            "750/750 [==============================] - 3s 4ms/step - loss: 0.9871 - accuracy: 0.6548 - val_loss: 0.9841 - val_accuracy: 0.6590\n",
            "Epoch 5/100\n",
            "750/750 [==============================] - 6s 9ms/step - loss: 0.9169 - accuracy: 0.6791 - val_loss: 0.9449 - val_accuracy: 0.6825\n",
            "Epoch 6/100\n",
            "750/750 [==============================] - 5s 7ms/step - loss: 0.8556 - accuracy: 0.7006 - val_loss: 0.8849 - val_accuracy: 0.7040\n",
            "Epoch 7/100\n",
            "750/750 [==============================] - 4s 5ms/step - loss: 0.8092 - accuracy: 0.7187 - val_loss: 0.8464 - val_accuracy: 0.7290\n",
            "Epoch 8/100\n",
            "750/750 [==============================] - 4s 5ms/step - loss: 0.7667 - accuracy: 0.7324 - val_loss: 0.8693 - val_accuracy: 0.7070\n",
            "Epoch 9/100\n",
            "750/750 [==============================] - 6s 8ms/step - loss: 0.7365 - accuracy: 0.7431 - val_loss: 0.8032 - val_accuracy: 0.7335\n",
            "Epoch 10/100\n",
            "750/750 [==============================] - 4s 6ms/step - loss: 0.6977 - accuracy: 0.7565 - val_loss: 0.8603 - val_accuracy: 0.7250\n",
            "Epoch 11/100\n",
            "750/750 [==============================] - 4s 6ms/step - loss: 0.6631 - accuracy: 0.7648 - val_loss: 0.8339 - val_accuracy: 0.7215\n",
            "Epoch 12/100\n",
            "750/750 [==============================] - 3s 4ms/step - loss: 0.6377 - accuracy: 0.7765 - val_loss: 0.8163 - val_accuracy: 0.7360\n"
          ]
        }
      ],
      "source": [
        "#We train the model\n",
        "early_stopping = callbacks.EarlyStopping(monitor='val_loss', patience=3, restore_best_weights=True)\n",
        "\n",
        "# Train the model with early stopping\n",
        "history=model_cifar.fit(train_images,train_labels,batch_size=64,epochs = 100,validation_data=(x_validation,y_validation),callbacks=[early_stopping])"
      ]
    },
    {
      "cell_type": "code",
      "execution_count": 6,
      "metadata": {
        "colab": {
          "base_uri": "https://localhost:8080/"
        },
        "execution": {
          "iopub.execute_input": "2023-12-10T09:27:40.066399Z",
          "iopub.status.busy": "2023-12-10T09:27:40.066032Z",
          "iopub.status.idle": "2023-12-10T09:27:40.995725Z",
          "shell.execute_reply": "2023-12-10T09:27:40.994756Z",
          "shell.execute_reply.started": "2023-12-10T09:27:40.066371Z"
        },
        "id": "ALGd8KgOHqvt",
        "outputId": "382d0b8c-a75d-4eae-ee2d-97b6d12f26ce",
        "trusted": true
      },
      "outputs": [
        {
          "name": "stdout",
          "output_type": "stream",
          "text": [
            "157/157 [==============================] - 1s 4ms/step - loss: 0.8445 - accuracy: 0.7171\n"
          ]
        },
        {
          "data": {
            "text/plain": [
              "[0.8444914817810059, 0.7171000242233276]"
            ]
          },
          "execution_count": 6,
          "metadata": {},
          "output_type": "execute_result"
        }
      ],
      "source": [
        "model_cifar.evaluate(test_images,test_labels,batch_size = 64)"
      ]
    },
    {
      "cell_type": "code",
      "execution_count": 8,
      "metadata": {
        "execution": {
          "iopub.execute_input": "2023-12-10T09:42:47.845362Z",
          "iopub.status.busy": "2023-12-10T09:42:47.844361Z",
          "iopub.status.idle": "2023-12-10T09:42:47.903052Z",
          "shell.execute_reply": "2023-12-10T09:42:47.901736Z",
          "shell.execute_reply.started": "2023-12-10T09:42:47.845323Z"
        },
        "id": "wOOHRRPYHqvu",
        "trusted": true
      },
      "outputs": [],
      "source": [
        "#Preprocessing the image\n",
        "img_path = 'dog.jpg'\n",
        "img = image.load_img(img_path, target_size=(32, 32))\n",
        "img_array = image.img_to_array(img)\n",
        "img_array = np.expand_dims(img_array, axis=0)\n",
        "img_array /= 255.0"
      ]
    },
    {
      "cell_type": "code",
      "execution_count": 9,
      "metadata": {
        "colab": {
          "base_uri": "https://localhost:8080/"
        },
        "id": "aAoujGC_Hqvv",
        "outputId": "b6eab9ea-cb66-4a70-859e-4a571c9c14d2"
      },
      "outputs": [
        {
          "name": "stdout",
          "output_type": "stream",
          "text": [
            "1/1 [==============================] - 0s 172ms/step\n",
            "1/1 [==============================] - 0s 18ms/step\n",
            "1/1 [==============================] - 0s 19ms/step\n"
          ]
        }
      ],
      "source": [
        "# Test the classification result with horizontal and vertical flip augmentation\n",
        "predictions_original = model_cifar.predict(img_array)\n",
        "img_flipped_horizontal = np.fliplr(img_array)\n",
        "predictions_flipped_horizontal = model_cifar.predict(img_flipped_horizontal)\n",
        "img_flipped_vertical = np.flipud(img_array)\n",
        "predictions_flipped_vertical = model_cifar.predict(img_flipped_vertical)"
      ]
    },
    {
      "cell_type": "code",
      "execution_count": 10,
      "metadata": {
        "id": "9Rf85InrI-RD"
      },
      "outputs": [],
      "source": [
        "class_labels = ['airplane', 'automobile', 'bird', 'cat', 'deer', 'dog', 'frog', 'horse', 'ship', 'truck']"
      ]
    },
    {
      "cell_type": "code",
      "execution_count": 11,
      "metadata": {
        "colab": {
          "base_uri": "https://localhost:8080/"
        },
        "id": "PDHvqTV0JPjG",
        "outputId": "b62bb95f-3fe5-424a-a58b-25ee67fd7a4a"
      },
      "outputs": [
        {
          "name": "stdout",
          "output_type": "stream",
          "text": [
            "Original Image Prediction: dog\n",
            "Flipped Horizontal Image Prediction: dog\n",
            "Flipped Vertical Image Prediction: dog\n"
          ]
        }
      ],
      "source": [
        "print(\"Original Image Prediction:\", class_labels[np.argmax(predictions_original)])\n",
        "print(\"Flipped Horizontal Image Prediction:\", class_labels[np.argmax(predictions_flipped_horizontal)])\n",
        "print(\"Flipped Vertical Image Prediction:\", class_labels[np.argmax(predictions_flipped_vertical)])"
      ]
    },
    {
      "cell_type": "markdown",
      "metadata": {
        "id": "PJRQnX8hHqvw"
      },
      "source": [
        "**Task 2**"
      ]
    },
    {
      "cell_type": "code",
      "execution_count": 17,
      "metadata": {
        "id": "lLXst_ODHqvw"
      },
      "outputs": [],
      "source": [
        "(train_images,train_labels),(test_images,test_labels)=mnist.load_data()\n",
        "#We normalize the input\n",
        "train_images=train_images/255\n",
        "test_images=test_images/255\n",
        "\n",
        "#We reshape it to have 60000X28X28X1\n",
        "train_images = tf.reshape(train_images,(train_images.shape[0],28,28,1))\n",
        "#We reshape it to have 10000X28X28X1\n",
        "test_images = tf.reshape(test_images,(test_images.shape[0],28,28,1))\n",
        "\n",
        "#Transform the labels to categorial values\n",
        "train_labels = keras.utils.to_categorical(train_labels)\n",
        "test_labels = keras.utils.to_categorical(test_labels)\n",
        "\n",
        "# validation data\n",
        "x_validation = train_images[-2000:,:,:,:]\n",
        "y_validation = train_labels[-2000:]\n",
        "\n",
        "train_images = train_images[:-2000,:,:,:]\n",
        "train_labels = train_labels[:-2000]"
      ]
    },
    {
      "cell_type": "code",
      "execution_count": 41,
      "metadata": {
        "id": "q_KKJqlNHqvx"
      },
      "outputs": [],
      "source": [
        "# Construct CNN model for MNIST\n",
        "model_mnist = Sequential([\n",
        "    Conv2D(32, (3, 3), activation='tanh', input_shape=(28, 28, 1)),\n",
        "    MaxPooling2D((2, 2)),\n",
        "    Conv2D(64, (3, 3), activation='tanh'),\n",
        "    MaxPooling2D((2, 2)),\n",
        "    Conv2D(64, (3, 3), activation='tanh'),\n",
        "    Flatten(),\n",
        "    Dense(64, activation='tanh'),\n",
        "    Dense(10, activation='softmax')\n",
        "])\n",
        "model_mnist.compile(optimizer='adam',\n",
        "                    loss=keras.losses.categorical_crossentropy,\n",
        "                    metrics=['accuracy'])"
      ]
    },
    {
      "cell_type": "code",
      "execution_count": 42,
      "metadata": {
        "colab": {
          "base_uri": "https://localhost:8080/"
        },
        "id": "p-fUrCAKHqvy",
        "outputId": "428828dc-a0e4-4188-be41-0cf2bc25f05c"
      },
      "outputs": [
        {
          "name": "stdout",
          "output_type": "stream",
          "text": [
            "Epoch 1/100\n",
            "907/907 [==============================] - 6s 5ms/step - loss: 0.1581 - accuracy: 0.9547 - val_loss: 0.0480 - val_accuracy: 0.9880\n",
            "Epoch 2/100\n",
            "907/907 [==============================] - 5s 6ms/step - loss: 0.0499 - accuracy: 0.9851 - val_loss: 0.0389 - val_accuracy: 0.9915\n",
            "Epoch 3/100\n",
            "907/907 [==============================] - 4s 5ms/step - loss: 0.0357 - accuracy: 0.9895 - val_loss: 0.0387 - val_accuracy: 0.9900\n",
            "Epoch 4/100\n",
            "907/907 [==============================] - 4s 5ms/step - loss: 0.0277 - accuracy: 0.9916 - val_loss: 0.0335 - val_accuracy: 0.9935\n",
            "Epoch 5/100\n",
            "907/907 [==============================] - 5s 6ms/step - loss: 0.0221 - accuracy: 0.9929 - val_loss: 0.0391 - val_accuracy: 0.9925\n",
            "Epoch 6/100\n",
            "907/907 [==============================] - 4s 5ms/step - loss: 0.0168 - accuracy: 0.9947 - val_loss: 0.0379 - val_accuracy: 0.9935\n",
            "Epoch 7/100\n",
            "907/907 [==============================] - 4s 5ms/step - loss: 0.0149 - accuracy: 0.9954 - val_loss: 0.0386 - val_accuracy: 0.9920\n"
          ]
        }
      ],
      "source": [
        "#We train the model\n",
        "early_stopping = callbacks.EarlyStopping(monitor='val_loss', patience=3, restore_best_weights=True)\n",
        "\n",
        "# Train the model with early stopping\n",
        "history=model_mnist.fit(train_images,train_labels,batch_size=64,epochs = 100,validation_data=(x_validation,y_validation),callbacks=[early_stopping])"
      ]
    },
    {
      "cell_type": "code",
      "execution_count": 43,
      "metadata": {
        "colab": {
          "base_uri": "https://localhost:8080/"
        },
        "id": "gr8R5GpiJ6EO",
        "outputId": "83d0c4ae-da64-430c-9f05-722be6e42226"
      },
      "outputs": [
        {
          "name": "stdout",
          "output_type": "stream",
          "text": [
            "157/157 [==============================] - 1s 4ms/step - loss: 0.0342 - accuracy: 0.9882\n"
          ]
        },
        {
          "data": {
            "text/plain": [
              "[0.03423963487148285, 0.9882000088691711]"
            ]
          },
          "execution_count": 43,
          "metadata": {},
          "output_type": "execute_result"
        }
      ],
      "source": [
        "model_mnist.evaluate(test_images,test_labels,batch_size = 64)"
      ]
    },
    {
      "cell_type": "code",
      "execution_count": 44,
      "metadata": {
        "id": "_gqj36AdKWon"
      },
      "outputs": [],
      "source": [
        "# Load and preprocess \"handwritten6.jpg\" image\n",
        "img_path_mnist = 'handwritten6.jpg'\n",
        "img_mnist = image.load_img(img_path_mnist, color_mode='grayscale', target_size=(28, 28))\n",
        "img_array_mnist = image.img_to_array(img_mnist)\n",
        "img_array_mnist = img_array_mnist.reshape((1,28, 28, 1))\n",
        "img_array_mnist /= 255.0  # Normalize pixel values"
      ]
    },
    {
      "cell_type": "code",
      "execution_count": 45,
      "metadata": {
        "colab": {
          "base_uri": "https://localhost:8080/"
        },
        "id": "TmZoJolWL837",
        "outputId": "7b75e85a-6d2b-4fe8-df24-4bd97cf53510"
      },
      "outputs": [
        {
          "name": "stdout",
          "output_type": "stream",
          "text": [
            "1/1 [==============================] - 0s 114ms/step\n",
            "1/1 [==============================] - 0s 28ms/step\n"
          ]
        }
      ],
      "source": [
        "# Test the classification result with rotation augmentation\n",
        "predictions_original_mnist = model_mnist.predict(img_array_mnist)\n",
        "img_rotated_mnist = cv2.rotate(img_array_mnist[0], cv2.ROTATE_90_CLOCKWISE)\n",
        "img_rotated_mnist = np.expand_dims(img_rotated_mnist, axis=0)\n",
        "img_rotated_mnist = np.expand_dims(img_rotated_mnist, axis=3)\n",
        "predictions_rotated_mnist = model_mnist.predict(img_rotated_mnist)"
      ]
    },
    {
      "cell_type": "code",
      "execution_count": 46,
      "metadata": {
        "colab": {
          "base_uri": "https://localhost:8080/"
        },
        "id": "cq5vJbZvOAoI",
        "outputId": "b77d30e9-70a8-4e52-facb-0f6bfcf1f245"
      },
      "outputs": [
        {
          "name": "stdout",
          "output_type": "stream",
          "text": [
            "Original Image Prediction: 5\n",
            "Rotated Image Prediction: 9\n"
          ]
        }
      ],
      "source": [
        "class_labels_mnist = [str(i) for i in range(10)]\n",
        "\n",
        "print(\"Original Image Prediction:\", class_labels_mnist[np.argmax(predictions_original_mnist)])\n",
        "print(\"Rotated Image Prediction:\", class_labels_mnist[np.argmax(predictions_rotated_mnist)])\n"
      ]
    }
  ],
  "metadata": {
    "accelerator": "GPU",
    "colab": {
      "gpuType": "T4",
      "provenance": []
    },
    "kaggle": {
      "accelerator": "gpu",
      "dataSources": [
        {
          "datasetId": 4140359,
          "sourceId": 7167032,
          "sourceType": "datasetVersion"
        }
      ],
      "isGpuEnabled": true,
      "isInternetEnabled": true,
      "language": "python",
      "sourceType": "notebook"
    },
    "kernelspec": {
      "display_name": "Python 3",
      "name": "python3"
    },
    "language_info": {
      "codemirror_mode": {
        "name": "ipython",
        "version": 3
      },
      "file_extension": ".py",
      "mimetype": "text/x-python",
      "name": "python",
      "nbconvert_exporter": "python",
      "pygments_lexer": "ipython3",
      "version": "3.10.12"
    }
  },
  "nbformat": 4,
  "nbformat_minor": 0
}
